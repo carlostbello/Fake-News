{
 "cells": [
  {
   "cell_type": "markdown",
   "metadata": {},
   "source": [
    "# Machine Learning to Detect Fake News Using Term Frequency Inverse Document Frequency Inverse Document Frequency Vectorizer (TfidfVectorizer) and Passive Aggressive Classifier\n",
    "## By Carlos Bello\n",
    "###### Sources and Data: \n",
    "###### https://data-flair.training/blogs/advanced-python-project-detecting-fake-news/\n",
    "###### https://www.w3resource.com/pandas\n",
    "### Purpose of Program\n",
    "The purpose of this program is to be able to detect fake news using a Term Frequency Inverse Document Frequency Inverse Document Frequency Vectorizer (TfidfVectorizer) and a  Passive Aggressive Classifier."
   ]
  },
  {
   "cell_type": "markdown",
   "metadata": {},
   "source": [
    "### Libraries\n",
    "The necessary libraries are imported"
   ]
  },
  {
   "cell_type": "code",
   "execution_count": 1,
   "metadata": {},
   "outputs": [],
   "source": [
    "import numpy as np\n",
    "import pandas as pd\n",
    "import itertools\n",
    "import pickle\n",
    "from sklearn.model_selection import train_test_split\n",
    "from sklearn.feature_extraction.text import TfidfVectorizer\n",
    "from sklearn.linear_model import PassiveAggressiveClassifier\n",
    "from sklearn.metrics import accuracy_score, confusion_matrix"
   ]
  },
  {
   "cell_type": "markdown",
   "metadata": {},
   "source": [
    "### Dataset\n",
    "The data set is imported, the head is printed and the labels are saved."
   ]
  },
  {
   "cell_type": "code",
   "execution_count": 2,
   "metadata": {},
   "outputs": [
    {
     "name": "stdout",
     "output_type": "stream",
     "text": [
      "(6335, 4)\n"
     ]
    },
    {
     "data": {
      "text/html": [
       "<div>\n",
       "<style scoped>\n",
       "    .dataframe tbody tr th:only-of-type {\n",
       "        vertical-align: middle;\n",
       "    }\n",
       "\n",
       "    .dataframe tbody tr th {\n",
       "        vertical-align: top;\n",
       "    }\n",
       "\n",
       "    .dataframe thead th {\n",
       "        text-align: right;\n",
       "    }\n",
       "</style>\n",
       "<table border=\"1\" class=\"dataframe\">\n",
       "  <thead>\n",
       "    <tr style=\"text-align: right;\">\n",
       "      <th></th>\n",
       "      <th>Unnamed: 0</th>\n",
       "      <th>title</th>\n",
       "      <th>text</th>\n",
       "      <th>label</th>\n",
       "    </tr>\n",
       "  </thead>\n",
       "  <tbody>\n",
       "    <tr>\n",
       "      <th>0</th>\n",
       "      <td>8476</td>\n",
       "      <td>You Can Smell Hillary’s Fear</td>\n",
       "      <td>Daniel Greenfield, a Shillman Journalism Fello...</td>\n",
       "      <td>FAKE</td>\n",
       "    </tr>\n",
       "    <tr>\n",
       "      <th>1</th>\n",
       "      <td>10294</td>\n",
       "      <td>Watch The Exact Moment Paul Ryan Committed Pol...</td>\n",
       "      <td>Google Pinterest Digg Linkedin Reddit Stumbleu...</td>\n",
       "      <td>FAKE</td>\n",
       "    </tr>\n",
       "    <tr>\n",
       "      <th>2</th>\n",
       "      <td>3608</td>\n",
       "      <td>Kerry to go to Paris in gesture of sympathy</td>\n",
       "      <td>U.S. Secretary of State John F. Kerry said Mon...</td>\n",
       "      <td>REAL</td>\n",
       "    </tr>\n",
       "    <tr>\n",
       "      <th>3</th>\n",
       "      <td>10142</td>\n",
       "      <td>Bernie supporters on Twitter erupt in anger ag...</td>\n",
       "      <td>— Kaydee King (@KaydeeKing) November 9, 2016 T...</td>\n",
       "      <td>FAKE</td>\n",
       "    </tr>\n",
       "    <tr>\n",
       "      <th>4</th>\n",
       "      <td>875</td>\n",
       "      <td>The Battle of New York: Why This Primary Matters</td>\n",
       "      <td>It's primary day in New York and front-runners...</td>\n",
       "      <td>REAL</td>\n",
       "    </tr>\n",
       "  </tbody>\n",
       "</table>\n",
       "</div>"
      ],
      "text/plain": [
       "   Unnamed: 0                                              title  \\\n",
       "0        8476                       You Can Smell Hillary’s Fear   \n",
       "1       10294  Watch The Exact Moment Paul Ryan Committed Pol...   \n",
       "2        3608        Kerry to go to Paris in gesture of sympathy   \n",
       "3       10142  Bernie supporters on Twitter erupt in anger ag...   \n",
       "4         875   The Battle of New York: Why This Primary Matters   \n",
       "\n",
       "                                                text label  \n",
       "0  Daniel Greenfield, a Shillman Journalism Fello...  FAKE  \n",
       "1  Google Pinterest Digg Linkedin Reddit Stumbleu...  FAKE  \n",
       "2  U.S. Secretary of State John F. Kerry said Mon...  REAL  \n",
       "3  — Kaydee King (@KaydeeKing) November 9, 2016 T...  FAKE  \n",
       "4  It's primary day in New York and front-runners...  REAL  "
      ]
     },
     "execution_count": 2,
     "metadata": {},
     "output_type": "execute_result"
    }
   ],
   "source": [
    "data = pd.read_csv('news.csv', sep = \",\")\n",
    "\n",
    "print(data.shape)\n",
    "data.head()"
   ]
  },
  {
   "cell_type": "code",
   "execution_count": 3,
   "metadata": {},
   "outputs": [
    {
     "data": {
      "text/plain": [
       "0    FAKE\n",
       "1    FAKE\n",
       "2    REAL\n",
       "3    FAKE\n",
       "4    REAL\n",
       "Name: label, dtype: object"
      ]
     },
     "execution_count": 3,
     "metadata": {},
     "output_type": "execute_result"
    }
   ],
   "source": [
    "labels = data.label\n",
    "labels.head()"
   ]
  },
  {
   "cell_type": "markdown",
   "metadata": {},
   "source": [
    "### Training The Model\n",
    "Here the model is trained. It will be trained 30 times, so that we can get a model with a higher percentage of accuracy. A test size of 0.1 will be used each time the train and test data is split. \n",
    "\n",
    "The TfidfVectorizer is then initialized. Terms with a higher document frequency higher than 0.7 will be discarded, which are commonly stop words in English. The vectorizer was then fit and transformed on the train set and then the vectorizer was transformed onto the test set. The PassiveAgressiveClasifier is then fit onto the tfidf_train and y_train. Then an accuracy score is generated. The model that has the highest accuracy is then saved for future reference."
   ]
  },
  {
   "cell_type": "code",
   "execution_count": 4,
   "metadata": {},
   "outputs": [
    {
     "name": "stdout",
     "output_type": "stream",
     "text": [
      "Accuracy: 95.27%\n",
      "Accuracy: 94.48%\n",
      "Accuracy: 93.22%\n",
      "Accuracy: 93.22%\n",
      "Accuracy: 93.85%\n",
      "Accuracy: 95.43%\n",
      "Accuracy: 94.95%\n",
      "Accuracy: 95.11%\n",
      "Accuracy: 94.16%\n",
      "Accuracy: 93.53%\n",
      "Accuracy: 95.27%\n",
      "Accuracy: 95.58%\n",
      "Accuracy: 94.95%\n",
      "Accuracy: 94.01%\n",
      "Accuracy: 95.11%\n",
      "Accuracy: 93.38%\n",
      "Accuracy: 93.53%\n",
      "Accuracy: 93.85%\n",
      "Accuracy: 96.21%\n",
      "Accuracy: 94.64%\n",
      "Accuracy: 93.22%\n",
      "Accuracy: 93.85%\n",
      "Accuracy: 95.58%\n",
      "Accuracy: 94.79%\n",
      "Accuracy: 92.59%\n",
      "Accuracy: 94.01%\n",
      "Accuracy: 94.79%\n",
      "Accuracy: 93.53%\n",
      "Accuracy: 96.06%\n",
      "Accuracy: 93.22%\n"
     ]
    }
   ],
   "source": [
    "best = 0\n",
    "for _ in range(30):\n",
    "    x_train, x_test, y_train, y_test = train_test_split(data['text'], labels, test_size = 0.1)\n",
    "    \n",
    "    tfidf_vectorizer = TfidfVectorizer(stop_words = 'english', max_df = 0.7)\n",
    "    \n",
    "    tfidf_train = tfidf_vectorizer.fit_transform(x_train) \n",
    "    tfidf_test = tfidf_vectorizer.transform(x_test)\n",
    "\n",
    "    pac = PassiveAggressiveClassifier(max_iter = 50)\n",
    "    pac.fit(tfidf_train,y_train)\n",
    "    \n",
    "    y_pred = pac.predict(tfidf_test)\n",
    "    acc = accuracy_score(y_test,y_pred)\n",
    "    \n",
    "    print(f'Accuracy: {round(acc*100,2)}%')\n",
    "\n",
    "    if acc > best:\n",
    "        best = acc\n",
    "        with open(\"fake_news.pickle\", \"wb\") as f:\n",
    "            pickle.dump(tfidf_vectorizer, f)"
   ]
  },
  {
   "cell_type": "markdown",
   "metadata": {},
   "source": [
    "### Importing The Model\n",
    "The model with the highest accuracy is then imported back in. The model with the highest accuracy, had an accuracy of 96.21%!"
   ]
  },
  {
   "cell_type": "code",
   "execution_count": 5,
   "metadata": {},
   "outputs": [],
   "source": [
    "pickle_in = open(\"fake_news.pickle\", \"rb\")\n",
    "tfidf_vectorizer = pickle.load(pickle_in)"
   ]
  },
  {
   "cell_type": "markdown",
   "metadata": {},
   "source": [
    "### Confusion Matrix\n",
    "A confusion Matrix is then used on the entire data set to look for false positives and false negatives. With this model, we are able to finish with 315 True Positives, 276 True Negatives, 21 False Positives, and 22 False Negatives."
   ]
  },
  {
   "cell_type": "code",
   "execution_count": 6,
   "metadata": {},
   "outputs": [
    {
     "data": {
      "text/plain": [
       "array([[315,  21],\n",
       "       [ 22, 276]], dtype=int64)"
      ]
     },
     "execution_count": 6,
     "metadata": {},
     "output_type": "execute_result"
    }
   ],
   "source": [
    "confusion_matrix(y_test,y_pred, labels=['FAKE','REAL'])"
   ]
  }
 ],
 "metadata": {
  "kernelspec": {
   "display_name": "Python 3",
   "language": "python",
   "name": "python3"
  },
  "language_info": {
   "codemirror_mode": {
    "name": "ipython",
    "version": 3
   },
   "file_extension": ".py",
   "mimetype": "text/x-python",
   "name": "python",
   "nbconvert_exporter": "python",
   "pygments_lexer": "ipython3",
   "version": "3.8.3"
  }
 },
 "nbformat": 4,
 "nbformat_minor": 4
}
